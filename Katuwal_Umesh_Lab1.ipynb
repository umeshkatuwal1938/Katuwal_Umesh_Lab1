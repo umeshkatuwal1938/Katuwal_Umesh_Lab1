{
  "nbformat": 4,
  "nbformat_minor": 0,
  "metadata": {
    "colab": {
      "provenance": []
    },
    "kernelspec": {
      "name": "python3",
      "display_name": "Python 3"
    },
    "language_info": {
      "name": "python"
    }
  },
  "cells": [
    {
      "cell_type": "code",
      "execution_count": 1,
      "metadata": {
        "colab": {
          "base_uri": "https://localhost:8080/"
        },
        "id": "eI0bFCoCYip7",
        "outputId": "b4a62c91-9cc2-4284-c12a-ea1874f0582d"
      },
      "outputs": [
        {
          "output_type": "stream",
          "name": "stdout",
          "text": [
            "41.30434782608695\n"
          ]
        }
      ],
      "source": [
        "#1 The Road Trip Planner\n",
        "import numpy as np\n",
        "import math as ma\n",
        "fuel_efficiency = 11.5     # km/l\n",
        "total_distance = 475       # km\n",
        "price = 1.65                # In $ per liter\n",
        "tank_capacity = 50       # liter\n",
        "\n",
        "#a\n",
        "fuel_needed = total_distance / fuel_efficiency\n",
        "print (fuel_needed)"
      ]
    },
    {
      "cell_type": "code",
      "source": [
        "fuel_efficiency = 11.5     # km/l\n",
        "total_distance = 475       # km\n",
        "price = 1.65                # In $ per liter\n",
        "tank_capacity = 50       # liter\n",
        "\n",
        "#b\n",
        "\n",
        "Number_of_tank =fuel_needed / tank_capacity\n",
        "print (Number_of_tank)"
      ],
      "metadata": {
        "colab": {
          "base_uri": "https://localhost:8080/"
        },
        "id": "GfSroFHkYt-H",
        "outputId": "8b8db212-974d-4beb-e9b7-b615fd33c35d"
      },
      "execution_count": 3,
      "outputs": [
        {
          "output_type": "stream",
          "name": "stdout",
          "text": [
            "0.826086956521739\n"
          ]
        }
      ]
    },
    {
      "cell_type": "code",
      "source": [
        "fuel_efficiency = 11.5     # km/l\n",
        "total_distance = 475       # km\n",
        "price = 1.65                # In $ per liter\n",
        "tank_capacity = 50       # liter\n",
        "\n",
        "#c\n",
        "total_cost = price * fuel_needed\n",
        "print (total_cost)"
      ],
      "metadata": {
        "colab": {
          "base_uri": "https://localhost:8080/"
        },
        "id": "Du0cSNVvY23d",
        "outputId": "2574b7fa-a883-4e7f-f564-32a0b509db5b"
      },
      "execution_count": 4,
      "outputs": [
        {
          "output_type": "stream",
          "name": "stdout",
          "text": [
            "68.15217391304347\n"
          ]
        }
      ]
    },
    {
      "cell_type": "code",
      "source": [
        "fuel_efficiency = 11.5     # km/l\n",
        "total_distance = 475       # km\n",
        "price = 1.65                # In $ per liter\n",
        "tank_capacity = 50       # liter\n",
        "\n",
        "#d\n",
        "fuel_consumed =total_distance / fuel_efficiency\n",
        "fuel_remained= tank_capacity - fuel_consumed\n",
        "print (fuel_consumed)\n",
        "print (fuel_remained)"
      ],
      "metadata": {
        "colab": {
          "base_uri": "https://localhost:8080/"
        },
        "id": "cMkhuhoWY9Xv",
        "outputId": "f56eb061-2aad-45cb-b897-362740694499"
      },
      "execution_count": 5,
      "outputs": [
        {
          "output_type": "stream",
          "name": "stdout",
          "text": [
            "41.30434782608695\n",
            "8.695652173913047\n"
          ]
        }
      ]
    },
    {
      "cell_type": "code",
      "source": [
        "#2 Theme Park Entry Rules\n",
        "#a\n",
        "age = 30\n",
        "is_weekday = True\n",
        "is_family_day = False\n",
        "group_size = 3\n",
        "\n",
        "discount = ( age <= 12 and is_weekday) or (age >= 60 and is_weekday) or (group_size >= 4 and is_family_day)\n",
        "\n",
        "print(discount)"
      ],
      "metadata": {
        "colab": {
          "base_uri": "https://localhost:8080/"
        },
        "id": "b9nGt5GlZBHY",
        "outputId": "7b5e13eb-9ae2-4c0a-dae7-40422d7aba32"
      },
      "execution_count": 6,
      "outputs": [
        {
          "output_type": "stream",
          "name": "stdout",
          "text": [
            "False\n"
          ]
        }
      ]
    },
    {
      "cell_type": "code",
      "source": [
        "#b\n",
        "age = 10\n",
        "is_weekday = True\n",
        "is_family_day = False\n",
        "group_size = 2\n",
        "\n",
        "\n",
        "discount = ( age <= 12 and is_weekday) or (age >= 60 and is_weekday) or (group_size >= 4 and is_family_day)\n",
        "\n",
        "print(discount)"
      ],
      "metadata": {
        "colab": {
          "base_uri": "https://localhost:8080/"
        },
        "id": "gFIVn8R-ZHko",
        "outputId": "5ee4bb4e-4830-4bca-f0f9-6712d05c2806"
      },
      "execution_count": 8,
      "outputs": [
        {
          "output_type": "stream",
          "name": "stdout",
          "text": [
            "True\n"
          ]
        }
      ]
    },
    {
      "cell_type": "code",
      "source": [
        "#c\n",
        "# for part b the condition provided are\n",
        "    #1 age <= 12 and is week day\n",
        "    #2 age >= 65\n",
        "    #3 group >=4 and is family day\n",
        "# the variable are age  = 10, group size  =2\n",
        "#among three conditions one condition is enough as the \"or\" operator helps to satisfy the condition\n",
        "# Here among the three conditions the first condition is true because the age is 10 and is week day which is enough to satisfy the condition.\n",
        "\n"
      ],
      "metadata": {
        "id": "ry_QcJM9ZSc0"
      },
      "execution_count": null,
      "outputs": []
    },
    {
      "cell_type": "code",
      "source": [
        "#3 Message Decoder\n",
        "\n",
        "secret_message = \"PyThoN_Is_FuN_AnD_PoWeRfUl\"\n",
        "# Index    0 1 2 3 4 5 6 7 8 9 10 11 12 13 14 15 16 17 18 19 20 21 22 23 24 25\n",
        "#          P y T h o N _ I s _ F  u  N   _  A  n  D  _ P  o  W  e  R  f  U  l\n",
        "\n",
        "#a (character at index 5)\n",
        "secret_message[5]"
      ],
      "metadata": {
        "colab": {
          "base_uri": "https://localhost:8080/",
          "height": 36
        },
        "id": "t3QRkqOsZo3E",
        "outputId": "f249b534-0ac2-487b-a330-34d55ed697bd"
      },
      "execution_count": 9,
      "outputs": [
        {
          "output_type": "execute_result",
          "data": {
            "text/plain": [
              "'N'"
            ],
            "application/vnd.google.colaboratory.intrinsic+json": {
              "type": "string"
            }
          },
          "metadata": {},
          "execution_count": 9
        }
      ]
    },
    {
      "cell_type": "code",
      "source": [
        "#b (using positive indexing and slicing)\n",
        "\n",
        "secret_message [7:13]"
      ],
      "metadata": {
        "colab": {
          "base_uri": "https://localhost:8080/",
          "height": 36
        },
        "id": "i3_LmCkhZv5v",
        "outputId": "a1546b06-7466-46fc-d619-0faf22ee583e"
      },
      "execution_count": 10,
      "outputs": [
        {
          "output_type": "execute_result",
          "data": {
            "text/plain": [
              "'Is_FuN'"
            ],
            "application/vnd.google.colaboratory.intrinsic+json": {
              "type": "string"
            }
          },
          "metadata": {},
          "execution_count": 10
        }
      ]
    },
    {
      "cell_type": "code",
      "source": [
        "#c  (using negative indexing and slicing)\n",
        "secret_message[-8:]"
      ],
      "metadata": {
        "colab": {
          "base_uri": "https://localhost:8080/",
          "height": 36
        },
        "id": "W8eCAn8DZ0P_",
        "outputId": "e87f27a2-c3d3-4a0a-9aa9-7a4d2c87add4"
      },
      "execution_count": 11,
      "outputs": [
        {
          "output_type": "execute_result",
          "data": {
            "text/plain": [
              "'PoWeRfUl'"
            ],
            "application/vnd.google.colaboratory.intrinsic+json": {
              "type": "string"
            }
          },
          "metadata": {},
          "execution_count": 11
        }
      ]
    },
    {
      "cell_type": "code",
      "source": [
        "#d (Create a new string that consists of every 4th character)\n",
        "secret_message = \"PyThoN_Is_FuN_AnD_PoWeRfUl\"\n",
        "output = secret_message[::4]\n",
        "print (output)"
      ],
      "metadata": {
        "colab": {
          "base_uri": "https://localhost:8080/"
        },
        "id": "HWfJmPULZ6W1",
        "outputId": "807f1244-92d2-42de-b610-c1426fe4b6b0"
      },
      "execution_count": 12,
      "outputs": [
        {
          "output_type": "stream",
          "name": "stdout",
          "text": [
            "PosNDWU\n"
          ]
        }
      ]
    },
    {
      "cell_type": "code",
      "source": [
        "# 4  Predict and Verify\n",
        "x = 15\n",
        "y = 25\n",
        "z = 15\n",
        "text = \"adventure\"\n",
        "\n",
        "#a\n",
        "(x == z) and (y > x)"
      ],
      "metadata": {
        "colab": {
          "base_uri": "https://localhost:8080/"
        },
        "id": "CC-YFxQQaA1Z",
        "outputId": "cf9ba375-377c-4478-d03c-6007a1dddafd"
      },
      "execution_count": 14,
      "outputs": [
        {
          "output_type": "execute_result",
          "data": {
            "text/plain": [
              "True"
            ]
          },
          "metadata": {},
          "execution_count": 14
        }
      ]
    },
    {
      "cell_type": "code",
      "source": [
        "x = 15\n",
        "y = 25\n",
        "z = 15\n",
        "text = \"adventure\"\n",
        "\n",
        "#b\n",
        "(x != z)\n"
      ],
      "metadata": {
        "colab": {
          "base_uri": "https://localhost:8080/"
        },
        "id": "pmOZk5t3aHu8",
        "outputId": "627c7914-4661-422d-ce4f-1d82283591b9"
      },
      "execution_count": 16,
      "outputs": [
        {
          "output_type": "execute_result",
          "data": {
            "text/plain": [
              "False"
            ]
          },
          "metadata": {},
          "execution_count": 16
        }
      ]
    },
    {
      "cell_type": "code",
      "source": [
        "x = 15\n",
        "y = 25\n",
        "z = 15\n",
        "text = \"adventure\"\n",
        "\n",
        "(y < x)"
      ],
      "metadata": {
        "colab": {
          "base_uri": "https://localhost:8080/"
        },
        "id": "b5uBdjAsaO_8",
        "outputId": "f0adf688-f96a-419a-cb3b-f839a5c1fc86"
      },
      "execution_count": 17,
      "outputs": [
        {
          "output_type": "execute_result",
          "data": {
            "text/plain": [
              "False"
            ]
          },
          "metadata": {},
          "execution_count": 17
        }
      ]
    },
    {
      "cell_type": "code",
      "source": [
        "x = 15\n",
        "y = 25\n",
        "z = 15\n",
        "text = \"adventure\"\n",
        "\n",
        "(len(text) < 5)"
      ],
      "metadata": {
        "colab": {
          "base_uri": "https://localhost:8080/"
        },
        "id": "wGMX7hHkaRxx",
        "outputId": "f0e97643-e5e6-4f85-a463-1ce05ee5e970"
      },
      "execution_count": 18,
      "outputs": [
        {
          "output_type": "execute_result",
          "data": {
            "text/plain": [
              "False"
            ]
          },
          "metadata": {},
          "execution_count": 18
        }
      ]
    },
    {
      "cell_type": "code",
      "source": [
        "#c\n",
        "\n",
        "not (x > y)\n"
      ],
      "metadata": {
        "colab": {
          "base_uri": "https://localhost:8080/"
        },
        "id": "_LptYBxqaV0t",
        "outputId": "fd565b2d-d364-462a-ff49-8dbc90d1d518"
      },
      "execution_count": 19,
      "outputs": [
        {
          "output_type": "execute_result",
          "data": {
            "text/plain": [
              "True"
            ]
          },
          "metadata": {},
          "execution_count": 19
        }
      ]
    },
    {
      "cell_type": "code",
      "source": [
        "#c\n",
        "\n",
        "(text == \"Adventure\")"
      ],
      "metadata": {
        "colab": {
          "base_uri": "https://localhost:8080/"
        },
        "id": "mUQs-BYkabu2",
        "outputId": "ce7f03b6-add6-48af-b251-17a9e6c0de8f"
      },
      "execution_count": 20,
      "outputs": [
        {
          "output_type": "execute_result",
          "data": {
            "text/plain": [
              "False"
            ]
          },
          "metadata": {},
          "execution_count": 20
        }
      ]
    },
    {
      "cell_type": "code",
      "source": [
        "#5  User Profile Setup\n",
        "\n",
        "#a\n",
        "username = \"MyUser123\"\n",
        "New_Username = \"m\" + username[1:]\n",
        "print (New_Username)\n",
        "\n"
      ],
      "metadata": {
        "colab": {
          "base_uri": "https://localhost:8080/"
        },
        "id": "sikl5hhGafTn",
        "outputId": "092bcd1f-a96e-4b88-de0e-bf04ac9f61f3"
      },
      "execution_count": 21,
      "outputs": [
        {
          "output_type": "stream",
          "name": "stdout",
          "text": [
            "myUser123\n"
          ]
        }
      ]
    },
    {
      "cell_type": "markdown",
      "source": [
        "#Once the string it created then it won't be changed in python. So, instead of using string to change the specified character, we need to create a new string which will allow to make a necessary changes.\n"
      ],
      "metadata": {
        "id": "kM6p3cNHap9_"
      }
    },
    {
      "cell_type": "code",
      "source": [
        "#b\n",
        "quote = \" practice makes perfect \"\n",
        "\n",
        "strip_quote = quote.strip()\n",
        "print(strip_quote)\n",
        "\n",
        "quote = \" practice makes perfect \"\n",
        "upper_quote = quote.upper().strip()\n",
        "print(upper_quote)\n",
        "\n",
        "quote = \" practice makes perfect \"\n",
        "formatted_quote = upper_quote.replace(\"PERFECT\", \"PROGRESS\")\n",
        "print(formatted_quote)"
      ],
      "metadata": {
        "colab": {
          "base_uri": "https://localhost:8080/"
        },
        "id": "Pj8hw8bmarPe",
        "outputId": "d89dff30-1ee0-4b82-91ae-34905cb876df"
      },
      "execution_count": 22,
      "outputs": [
        {
          "output_type": "stream",
          "name": "stdout",
          "text": [
            "practice makes perfect\n",
            "PRACTICE MAKES PERFECT\n",
            "PRACTICE MAKES PROGRESS\n"
          ]
        }
      ]
    },
    {
      "cell_type": "code",
      "source": [
        "#c\n",
        "\n",
        "quote = \" practice makes perfect \"\n",
        "formatted_quote = \"PRACTICE MAKES PROGRESS\"\n",
        "\n",
        "original_quote_length = len(quote)\n",
        "formatted_quote_length = len(formatted_quote)\n",
        "\n",
        "print(original_quote_length)\n",
        "print(formatted_quote_length)"
      ],
      "metadata": {
        "colab": {
          "base_uri": "https://localhost:8080/"
        },
        "id": "WKy8w3Yaayg1",
        "outputId": "be8a9144-d635-42ce-ff9f-2a48ecdeb695"
      },
      "execution_count": 23,
      "outputs": [
        {
          "output_type": "stream",
          "name": "stdout",
          "text": [
            "24\n",
            "23\n"
          ]
        }
      ]
    }
  ]
}